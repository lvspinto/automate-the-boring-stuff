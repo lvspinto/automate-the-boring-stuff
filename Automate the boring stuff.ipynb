{
 "cells": [
  {
   "cell_type": "markdown",
   "metadata": {},
   "source": [
    "# Chapter 6 projects"
   ]
  },
  {
   "cell_type": "markdown",
   "metadata": {},
   "source": [
    "pyperclip"
   ]
  },
  {
   "cell_type": "code",
   "execution_count": 13,
   "metadata": {
    "ExecuteTime": {
     "end_time": "2019-10-12T20:25:49.523309Z",
     "start_time": "2019-10-12T20:25:49.499430Z"
    }
   },
   "outputs": [
    {
     "name": "stdout",
     "output_type": "stream",
     "text": [
      "There is no account named -f\n"
     ]
    }
   ],
   "source": [
    "''' pw.py \n",
    "    \n",
    "    An insecure password locker program.'''\n",
    "\n",
    "PASSWORDS = {'email': 'F7minlBDDuvMJuxESSKHFhTxFtjVB6',\n",
    "             'blog': 'VmALvQyKAxiVH5G8v01if1MLZF3sdt',\n",
    "             'luggage': '12345'}\n",
    "\n",
    "import sys,pyperclip\n",
    "if len(sys.argv) < 2:\n",
    "     print('Usage: python pw.py [account] - copy account password')\n",
    "     sys.exit()\n",
    "\n",
    "account = sys.argv[1] # first command line arg is the account name\n",
    "\n",
    "if account in PASSWORDS.keys():\n",
    "    pyperclip.copy(PASSWORDS[account])\n",
    "    print('Password for ' + account + ' copied to clipboard.')\n",
    "else:\n",
    "    print('There is no account named ' + account)"
   ]
  },
  {
   "cell_type": "code",
   "execution_count": 56,
   "metadata": {
    "ExecuteTime": {
     "end_time": "2019-10-12T21:04:22.852010Z",
     "start_time": "2019-10-12T21:04:22.829252Z"
    }
   },
   "outputs": [],
   "source": [
    "''' bulletPointAdder.py\n",
    "    \n",
    "    Adds * to everyline of text in the clipboard '''\n",
    "\n",
    "import pyperclip\n",
    "\n",
    "text = pyperclip.paste()\n",
    "text = text.split('\\n')\n",
    "new_text = ''\n",
    "for i in range(len(text)):\n",
    "    text[i] = '* ' + text[i]\n",
    "\n",
    "text = '\\n'.join(text)\n",
    "pyperclip.copy(text)\n",
    "\n",
    "# teste:\n",
    "\n",
    "# ctr+c alguma lista (ex abaixo), rode o código e cole em outro lugar (ex word)\n",
    "\n",
    "# Lists of animals\n",
    "# Lists of aquarium life\n",
    "# Lists of biologists by author abbreviation\n",
    "\n",
    "# Lists of cultivars"
   ]
  },
  {
   "cell_type": "markdown",
   "metadata": {},
   "source": [
    "# Chapter 12: Working with Excel Spreadsheets"
   ]
  },
  {
   "cell_type": "markdown",
   "metadata": {},
   "source": [
    "Métodos úteis do OpenPyxl"
   ]
  },
  {
   "cell_type": "code",
   "execution_count": 6,
   "metadata": {
    "ExecuteTime": {
     "end_time": "2019-10-14T18:28:12.576203Z",
     "start_time": "2019-10-14T18:28:12.548565Z"
    }
   },
   "outputs": [
    {
     "name": "stderr",
     "output_type": "stream",
     "text": [
      "C:\\Users\\lvspi\\Anaconda2\\lib\\site-packages\\ipykernel_launcher.py:6: DeprecationWarning: Call to deprecated function get_sheet_names (Use wb.sheetnames).\n",
      "  \n"
     ]
    },
    {
     "data": {
      "text/plain": [
       "['Sheet1', 'Sheet2', 'Sheet3']"
      ]
     },
     "execution_count": 6,
     "metadata": {},
     "output_type": "execute_result"
    }
   ],
   "source": [
    "import openpyxl\n",
    "import os\n",
    "\n",
    "path = r'C:\\Users\\lvspi\\Documents\\Programing\\Python\\Automate the boring stuff\\automate_online-materials\\example.xlsx'\n",
    "wb = openpyxl.load_workbook(path)\n",
    "wb.get_sheet_names()"
   ]
  },
  {
   "cell_type": "code",
   "execution_count": 10,
   "metadata": {
    "ExecuteTime": {
     "end_time": "2019-10-14T19:16:48.274937Z",
     "start_time": "2019-10-14T19:16:48.262344Z"
    }
   },
   "outputs": [
    {
     "name": "stderr",
     "output_type": "stream",
     "text": [
      "C:\\Users\\lvspi\\Anaconda2\\lib\\site-packages\\ipykernel_launcher.py:1: DeprecationWarning: Call to deprecated function get_sheet_by_name (Use wb[sheetname]).\n",
      "  \"\"\"Entry point for launching an IPython kernel.\n"
     ]
    },
    {
     "data": {
      "text/plain": [
       "datetime.datetime(2015, 4, 5, 13, 34, 2)"
      ]
     },
     "execution_count": 10,
     "metadata": {},
     "output_type": "execute_result"
    }
   ],
   "source": [
    "sheet = wb.get_sheet_by_name('Sheet1')\n",
    "sheet['A1'].value"
   ]
  },
  {
   "cell_type": "code",
   "execution_count": 18,
   "metadata": {
    "ExecuteTime": {
     "end_time": "2019-10-14T19:20:24.066576Z",
     "start_time": "2019-10-14T19:20:24.059000Z"
    }
   },
   "outputs": [
    {
     "data": {
      "text/plain": [
       "'Row 1, Column 2 is Apples'"
      ]
     },
     "execution_count": 18,
     "metadata": {},
     "output_type": "execute_result"
    }
   ],
   "source": [
    "c = sheet['B1']\n",
    "'Row ' + str(c.row)  + ', Column ' + str(c.column ) + ' is ' + c.value"
   ]
  },
  {
   "cell_type": "code",
   "execution_count": 21,
   "metadata": {
    "ExecuteTime": {
     "end_time": "2019-10-14T19:22:35.055527Z",
     "start_time": "2019-10-14T19:22:35.047599Z"
    }
   },
   "outputs": [
    {
     "data": {
      "text/plain": [
       "datetime.datetime(2015, 4, 5, 13, 34, 2)"
      ]
     },
     "execution_count": 21,
     "metadata": {},
     "output_type": "execute_result"
    }
   ],
   "source": [
    "sheet.cell(1,1).value"
   ]
  },
  {
   "cell_type": "code",
   "execution_count": 35,
   "metadata": {
    "ExecuteTime": {
     "end_time": "2019-10-14T19:52:40.277633Z",
     "start_time": "2019-10-14T19:52:40.268027Z"
    }
   },
   "outputs": [
    {
     "data": {
      "text/plain": [
       "((<Cell 'Sheet1'.A1>, <Cell 'Sheet1'.B1>, <Cell 'Sheet1'.C1>),\n",
       " (<Cell 'Sheet1'.A2>, <Cell 'Sheet1'.B2>, <Cell 'Sheet1'.C2>),\n",
       " (<Cell 'Sheet1'.A3>, <Cell 'Sheet1'.B3>, <Cell 'Sheet1'.C3>))"
      ]
     },
     "execution_count": 35,
     "metadata": {},
     "output_type": "execute_result"
    }
   ],
   "source": [
    "# slicing:\n",
    "\n",
    "t = tuple(sheet['A1':'C3'])\n",
    "t"
   ]
  },
  {
   "cell_type": "code",
   "execution_count": 33,
   "metadata": {
    "ExecuteTime": {
     "end_time": "2019-10-14T19:49:18.884670Z",
     "start_time": "2019-10-14T19:49:18.872421Z"
    }
   },
   "outputs": [
    {
     "name": "stdout",
     "output_type": "stream",
     "text": [
      "A1 2015-04-05 13:34:02\n",
      "B1 Apples\n",
      "C1 73\n",
      "--- end of row ---\n",
      "A2 2015-04-05 03:41:23\n",
      "B2 Cherries\n",
      "C2 85\n",
      "--- end of row ---\n",
      "A3 2015-04-06 12:46:51\n",
      "B3 Pears\n",
      "C3 14\n",
      "--- end of row ---\n"
     ]
    }
   ],
   "source": [
    "for row in sheet['A1':'C3']:\n",
    "    for cell in row:\n",
    "        print(cell.coordinate, cell.value)\n",
    "    print('--- end of row ---')"
   ]
  },
  {
   "cell_type": "code",
   "execution_count": 39,
   "metadata": {
    "ExecuteTime": {
     "end_time": "2019-10-14T19:55:42.820798Z",
     "start_time": "2019-10-14T19:55:42.817808Z"
    }
   },
   "outputs": [
    {
     "name": "stdout",
     "output_type": "stream",
     "text": [
      "(<Cell 'Sheet1'.A1>, <Cell 'Sheet1'.A2>, <Cell 'Sheet1'.A3>, <Cell 'Sheet1'.A4>, <Cell 'Sheet1'.A5>, <Cell 'Sheet1'.A6>, <Cell 'Sheet1'.A7>)\n",
      "(<Cell 'Sheet1'.B1>, <Cell 'Sheet1'.B2>, <Cell 'Sheet1'.B3>, <Cell 'Sheet1'.B4>, <Cell 'Sheet1'.B5>, <Cell 'Sheet1'.B6>, <Cell 'Sheet1'.B7>)\n",
      "(<Cell 'Sheet1'.C1>, <Cell 'Sheet1'.C2>, <Cell 'Sheet1'.C3>, <Cell 'Sheet1'.C4>, <Cell 'Sheet1'.C5>, <Cell 'Sheet1'.C6>, <Cell 'Sheet1'.C7>)\n"
     ]
    }
   ],
   "source": [
    "for cell in sheet.columns:\n",
    "    print(cell)"
   ]
  },
  {
   "cell_type": "code",
   "execution_count": 92,
   "metadata": {
    "ExecuteTime": {
     "end_time": "2019-10-14T23:13:24.442106Z",
     "start_time": "2019-10-14T23:13:24.438118Z"
    }
   },
   "outputs": [],
   "source": [
    "from openpyxl.styles import Font\n",
    "from openpyxl.styles import colors\n",
    "\n",
    "fontObj = Font(name='Times New Roman', bold=True, color=colors.RED)\n",
    "sheet['A1'].font = fontObj"
   ]
  },
  {
   "cell_type": "code",
   "execution_count": null,
   "metadata": {},
   "outputs": [],
   "source": [
    "# abrir arquivo com fórmulas ou resultados\n",
    "\n",
    " import openpyxl\n",
    "\n",
    "wbFormulas = openpyxl.load_workbook('writeFormula.xlsx')\n",
    "sheet = wbFormulas.get_active_sheet()\n",
    "sheet['A3'].value\n",
    ">>>'=SUM(A1:A2)'\n",
    "\n",
    "wbDataOnly = openpyxl.load_workbook('writeFormula.xlsx', data_only=True)\n",
    "sheet = wbDataOnly.get_active_sheet()\n",
    "sheet['A3'].value\n",
    ">>> 500"
   ]
  },
  {
   "cell_type": "code",
   "execution_count": null,
   "metadata": {},
   "outputs": [],
   "source": [
    "# para escrever formulas, basta passar como string:\n",
    "\n",
    "import openpyxl\n",
    "wb = openpyxl.Workbook()\n",
    "sheet = wb.get_active_sheet()\n",
    "sheet['A1'] = 200\n",
    "sheet['A2'] = 300\n",
    "sheet['A3'] = '=SUM(A1:A2)'\n",
    "wb.save('writeFormula.xlsx')"
   ]
  },
  {
   "cell_type": "markdown",
   "metadata": {
    "ExecuteTime": {
     "end_time": "2019-10-14T19:58:59.608341Z",
     "start_time": "2019-10-14T19:58:59.593191Z"
    }
   },
   "source": [
    "Project: Updating Spreadsheet"
   ]
  },
  {
   "cell_type": "code",
   "execution_count": 83,
   "metadata": {
    "ExecuteTime": {
     "end_time": "2019-10-14T22:48:27.641293Z",
     "start_time": "2019-10-14T22:48:21.187778Z"
    }
   },
   "outputs": [],
   "source": [
    "'''updateProduce.py: Corrects costs in produce sales spreadsheet.'''\n",
    "\n",
    "import openpyxl\n",
    "\n",
    "path = r'C:\\Users\\lvspi\\Documents\\Programing\\Python\\Automate the boring stuff\\automate_online-materials\\produceSales.xlsx'\n",
    "wb = openpyxl.load_workbook(path)\n",
    "ws = wb['Sheet']\n",
    "\n",
    "itens = {'Celery':1.19, 'Garlic':3.07,'Lemon':1.27}\n",
    "\n",
    "for i in range(2,23760):\n",
    "    if ws.cell(i,1).value in itens.keys():\n",
    "        ws.cell(i,2).value = itens[ws.cell(i,1).value]\n",
    "        \n",
    "wb.save(r'C:\\Users\\lvspi\\Documents\\Programing\\Python\\Automate the boring stuff\\automate_online-materials\\updatedProduceSales.xlsx')"
   ]
  }
 ],
 "metadata": {
  "kernelspec": {
   "display_name": "Python 3",
   "language": "python",
   "name": "python3"
  },
  "language_info": {
   "codemirror_mode": {
    "name": "ipython",
    "version": 3
   },
   "file_extension": ".py",
   "mimetype": "text/x-python",
   "name": "python",
   "nbconvert_exporter": "python",
   "pygments_lexer": "ipython3",
   "version": "3.7.3"
  },
  "toc": {
   "base_numbering": 1,
   "nav_menu": {},
   "number_sections": true,
   "sideBar": true,
   "skip_h1_title": true,
   "title_cell": "Table of Contents",
   "title_sidebar": "Contents",
   "toc_cell": false,
   "toc_position": {},
   "toc_section_display": true,
   "toc_window_display": false
  },
  "varInspector": {
   "cols": {
    "lenName": 16,
    "lenType": 16,
    "lenVar": 40
   },
   "kernels_config": {
    "python": {
     "delete_cmd_postfix": "",
     "delete_cmd_prefix": "del ",
     "library": "var_list.py",
     "varRefreshCmd": "print(var_dic_list())"
    },
    "r": {
     "delete_cmd_postfix": ") ",
     "delete_cmd_prefix": "rm(",
     "library": "var_list.r",
     "varRefreshCmd": "cat(var_dic_list()) "
    }
   },
   "types_to_exclude": [
    "module",
    "function",
    "builtin_function_or_method",
    "instance",
    "_Feature"
   ],
   "window_display": true
  }
 },
 "nbformat": 4,
 "nbformat_minor": 2
}
